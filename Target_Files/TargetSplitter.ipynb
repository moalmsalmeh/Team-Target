{
 "cells": [
  {
   "cell_type": "code",
   "execution_count": 1,
   "id": "bcccb5db",
   "metadata": {},
   "outputs": [],
   "source": [
    "import pandas as pd\n",
    "import spacy"
   ]
  },
  {
   "cell_type": "code",
   "execution_count": 2,
   "id": "c15f0b26",
   "metadata": {},
   "outputs": [],
   "source": [
    "df = pd.read_csv(\"C:\\\\Users\\\\brush\\\\Projekt_NLP\\\\normalizedResult.tsv\", sep=\"\\t\")"
   ]
  },
  {
   "cell_type": "code",
   "execution_count": 3,
   "id": "3eae350a",
   "metadata": {},
   "outputs": [],
   "source": [
    "target = (df.iloc[0:8132 , 2 ].to_list())"
   ]
  },
  {
   "cell_type": "code",
   "execution_count": 4,
   "id": "a0607277",
   "metadata": {},
   "outputs": [
    {
     "name": "stdout",
     "output_type": "stream",
     "text": [
      "8132\n",
      "8132\n"
     ]
    }
   ],
   "source": [
    "text= df.iloc[0:8132, 1 ].to_list()\n",
    "print (len(text))\n",
    "print (len(target))"
   ]
  },
  {
   "cell_type": "code",
   "execution_count": 5,
   "id": "57721f8c",
   "metadata": {},
   "outputs": [
    {
     "name": "stdout",
     "output_type": "stream",
     "text": [
      "8081\n",
      "8081\n"
     ]
    }
   ],
   "source": [
    "counter=0\n",
    "for t in text:\n",
    "    if type(t) is float:\n",
    "        text.remove(t)\n",
    "        target.remove(target[counter])\n",
    "    counter+=1\n",
    "\n",
    "print (len(text))\n",
    "print(len(target))"
   ]
  },
  {
   "cell_type": "code",
   "execution_count": 6,
   "id": "bee9266f",
   "metadata": {},
   "outputs": [],
   "source": [
    "array =[]\n",
    "nlp = spacy.load(\"de_core_news_sm\")\n",
    "for t in text:\n",
    "    doc = nlp(t)\n",
    "    temp = [token.lemma_.lower() for token in doc if token.is_alpha]\n",
    "    array.append((\" \".join(temp)))"
   ]
  },
  {
   "cell_type": "code",
   "execution_count": 7,
   "id": "d7e6cff9",
   "metadata": {},
   "outputs": [],
   "source": [
    "targetPerson=[]\n",
    "targetGroup=[]\n",
    "targetPublic=[]\n",
    "targetPersonFound=0\n",
    "targetGroupFound=0\n",
    "targetPublicFound=0"
   ]
  },
  {
   "cell_type": "code",
   "execution_count": 8,
   "id": "8dd37e63",
   "metadata": {},
   "outputs": [],
   "source": [
    "counter=0\n",
    "for t in text:\n",
    "    if target[counter] == 0:\n",
    "        targetPerson.append(t)\n",
    "        targetPersonFound+=1\n",
    "    elif target[counter] == 1:\n",
    "        targetGroup.append(t)\n",
    "        targetGroupFound+=1\n",
    "    else:\n",
    "        targetPublic.append(t)\n",
    "        targetPublicFound+=1\n",
    "    counter+=1"
   ]
  },
  {
   "cell_type": "code",
   "execution_count": 9,
   "id": "618846ae",
   "metadata": {},
   "outputs": [
    {
     "name": "stdout",
     "output_type": "stream",
     "text": [
      "2854\n",
      "3207\n",
      "2020\n"
     ]
    }
   ],
   "source": [
    "print(targetPersonFound)\n",
    "print(targetGroupFound)\n",
    "print(targetPublicFound)"
   ]
  },
  {
   "cell_type": "code",
   "execution_count": 11,
   "id": "3d7f075c",
   "metadata": {},
   "outputs": [],
   "source": [
    "with open('targetPersonTweets.txt', 'w', encoding=\"utf-8\") as f:\n",
    "    for s in targetPerson:\n",
    "        f.writelines(str(s) + \"\\n\")\n",
    "with open('targetGroupTweets.txt', 'w', encoding=\"utf-8\") as f:\n",
    "    for s in targetGroup:\n",
    "        f.writelines(str(s) + \"\\n\")\n",
    "with open('targetPublicTweets.txt', 'w', encoding=\"utf-8\") as f:\n",
    "    for s in targetPublic:\n",
    "        f.writelines(str(s) + \"\\n\")"
   ]
  }
 ],
 "metadata": {
  "kernelspec": {
   "display_name": "Python 3 (ipykernel)",
   "language": "python",
   "name": "python3"
  },
  "language_info": {
   "codemirror_mode": {
    "name": "ipython",
    "version": 3
   },
   "file_extension": ".py",
   "mimetype": "text/x-python",
   "name": "python",
   "nbconvert_exporter": "python",
   "pygments_lexer": "ipython3",
   "version": "3.9.13"
  }
 },
 "nbformat": 4,
 "nbformat_minor": 5
}
