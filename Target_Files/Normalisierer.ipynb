{
 "cells": [
  {
   "cell_type": "code",
   "execution_count": 1,
   "id": "187b2468",
   "metadata": {
    "pycharm": {
     "is_executing": true
    }
   },
   "outputs": [],
   "source": [
    "import spacy\n",
    "import pandas as pd"
   ]
  },
  {
   "cell_type": "code",
   "execution_count": 2,
   "id": "b7b4bf61",
   "metadata": {
    "pycharm": {
     "is_executing": true
    }
   },
   "outputs": [
    {
     "data": {
      "text/plain": [
       "(8132, 2)"
      ]
     },
     "execution_count": 2,
     "metadata": {},
     "output_type": "execute_result"
    }
   ],
   "source": [
    "df = pd.read_table('C:/Users/brush/Projekt_NLP/Entwicklungsdaten.tsv', usecols=['c_text', 'target'])\n",
    "df.shape"
   ]
  },
  {
   "cell_type": "code",
   "execution_count": 3,
   "id": "c7e2a9e5",
   "metadata": {},
   "outputs": [
    {
     "name": "stdout",
     "output_type": "stream",
     "text": [
      "c_text    object\n",
      "target    object\n",
      "dtype: object\n"
     ]
    }
   ],
   "source": [
    "print(df.dtypes)"
   ]
  },
  {
   "cell_type": "code",
   "execution_count": 4,
   "id": "11de352f",
   "metadata": {},
   "outputs": [],
   "source": [
    "texts=df['c_text']       \n",
    "target=(df['target'].to_list())\n",
    "targetNr=[]\n",
    "personCount=0\n",
    "groupCount=0\n",
    "publicCount=0\n",
    "\n",
    "for t in target:\n",
    "    if t == \"person\":\n",
    "        targetNr.append(\"0\")\n",
    "        personCount+=1\n",
    "    elif t == \"group\":\n",
    "        targetNr.append(\"1\")\n",
    "        groupCount+=1\n",
    "    else:\n",
    "        targetNr.append(\"2\")\n",
    "        publicCount+=1\n",
    "        \n",
    "df['target']=targetNr"
   ]
  },
  {
   "cell_type": "code",
   "execution_count": 5,
   "id": "b02dea50",
   "metadata": {},
   "outputs": [],
   "source": [
    "import spacy\n",
    "nlp = spacy.load(\"de_core_news_sm\")"
   ]
  },
  {
   "cell_type": "code",
   "execution_count": 6,
   "id": "f3401cec",
   "metadata": {},
   "outputs": [],
   "source": [
    "tweet_words = []\n",
    "n_text = \"\"\n",
    "for tweet in texts:\n",
    "    doc = nlp(tweet)\n",
    "    for token in doc:\n",
    "        if token.is_alpha:\n",
    "            n_text+=token.text+\" \"\n",
    "    \n",
    "    tweet_words.append(n_text)\n",
    "    n_text=\"\"\n",
    "#print('\\n'.join(tweet_words))"
   ]
  },
  {
   "cell_type": "code",
   "execution_count": 7,
   "id": "ea4904a6",
   "metadata": {},
   "outputs": [],
   "source": [
    "df['c_text']=tweet_words"
   ]
  },
  {
   "cell_type": "code",
   "execution_count": 8,
   "id": "55b61862",
   "metadata": {},
   "outputs": [],
   "source": [
    "df.to_csv('C:/Users/brush/Projekt_NLP/normalizedResult.tsv', sep=\"\\t\")"
   ]
  },
  {
   "cell_type": "code",
   "execution_count": 9,
   "id": "c186bd37",
   "metadata": {},
   "outputs": [
    {
     "name": "stdout",
     "output_type": "stream",
     "text": [
      "2865\n",
      "3213\n",
      "2054\n"
     ]
    }
   ],
   "source": [
    "df = pd.DataFrame ({'Text': tweet_words , 'Target': target })\n",
    "print(personCount)\n",
    "print(groupCount)\n",
    "print(publicCount)\n",
    "#print (df)"
   ]
  },
  {
   "cell_type": "code",
   "execution_count": null,
   "id": "93cc941e",
   "metadata": {},
   "outputs": [],
   "source": []
  }
 ],
 "metadata": {
  "kernelspec": {
   "display_name": "Python 3 (ipykernel)",
   "language": "python",
   "name": "python3"
  },
  "language_info": {
   "codemirror_mode": {
    "name": "ipython",
    "version": 3
   },
   "file_extension": ".py",
   "mimetype": "text/x-python",
   "name": "python",
   "nbconvert_exporter": "python",
   "pygments_lexer": "ipython3",
   "version": "3.9.13"
  }
 },
 "nbformat": 4,
 "nbformat_minor": 5
}
