{
 "cells": [
  {
   "cell_type": "code",
   "execution_count": 1,
   "id": "69770a49",
   "metadata": {},
   "outputs": [],
   "source": [
    "import pandas as pd\n",
    "import spacy"
   ]
  },
  {
   "cell_type": "code",
   "execution_count": 2,
   "id": "6f804485",
   "metadata": {},
   "outputs": [],
   "source": [
    "df = pd.read_csv(\"C:\\\\Users\\\\brush\\\\Projekt_NLP\\\\normalizedResult.tsv\", sep=\"\\t\")\n"
   ]
  },
  {
   "cell_type": "code",
   "execution_count": 3,
   "id": "240fcfd4",
   "metadata": {},
   "outputs": [
    {
     "name": "stdout",
     "output_type": "stream",
     "text": [
      "8132\n",
      "8132\n"
     ]
    }
   ],
   "source": [
    "target = (df.iloc[0:8132 , 2 ].to_list())\n",
    "text= df.iloc[0:8132, 1 ].to_list()\n",
    "print (len(text))\n",
    "print (len(target))"
   ]
  },
  {
   "cell_type": "code",
   "execution_count": 4,
   "id": "c460e536",
   "metadata": {},
   "outputs": [
    {
     "name": "stdout",
     "output_type": "stream",
     "text": [
      "8081\n",
      "8081\n"
     ]
    }
   ],
   "source": [
    "counter=0\n",
    "for t in text:\n",
    "    if type(t) is float:\n",
    "        text.remove(t)\n",
    "        target.remove(target[counter])\n",
    "    counter+=1\n",
    "\n",
    "print (len(text))\n",
    "print(len(target))"
   ]
  },
  {
   "cell_type": "code",
   "execution_count": 5,
   "id": "cff23124",
   "metadata": {},
   "outputs": [],
   "source": [
    "onlyPerson=[]\n",
    "onlyGroup=[]\n",
    "onlyPublic=[]\n",
    "\n",
    "personFile = open('onlyPersonWords.txt', 'r', encoding=\"utf-8\")\n",
    "temp = personFile.readlines()\n",
    "for line in temp:\n",
    "    onlyPerson.append(line.replace(\"\\n\", \"\"))\n",
    "    \n",
    "groupFile = open('onlyGroupWords.txt', 'r', encoding=\"utf-8\")\n",
    "temp = groupFile.readlines()\n",
    "for line in temp:\n",
    "    onlyGroup.append(line.replace(\"\\n\", \"\"))\n",
    "\n",
    "publicFile = open('onlyPublicWords.txt', 'r', encoding=\"utf-8\")\n",
    "temp = publicFile.readlines()\n",
    "for line in temp:\n",
    "    onlyPublic.append(line.replace(\"\\n\", \"\"))"
   ]
  },
  {
   "cell_type": "code",
   "execution_count": 6,
   "id": "34b4333a",
   "metadata": {
    "scrolled": false
   },
   "outputs": [],
   "source": [
    "array=[]\n",
    "\n",
    "nlp = spacy.load(\"de_core_news_sm\")\n",
    "for t in text:\n",
    "    doc = nlp(t)\n",
    "\n",
    "    temp = [token.lemma_.lower() for token in doc if token.is_alpha]\n",
    "    array.append((\" \".join(temp)))"
   ]
  },
  {
   "cell_type": "code",
   "execution_count": 7,
   "id": "b50a3b4f",
   "metadata": {},
   "outputs": [],
   "source": [
    "personCount = 0\n",
    "groupCount = 0\n",
    "publicCount = 0\n",
    "resultPerson = 0\n",
    "resultGroup = 0\n",
    "resultPublic = 0"
   ]
  },
  {
   "cell_type": "code",
   "execution_count": 12,
   "id": "d20e794c",
   "metadata": {},
   "outputs": [],
   "source": [
    "result=[]"
   ]
  },
  {
   "cell_type": "code",
   "execution_count": 13,
   "id": "30750972",
   "metadata": {},
   "outputs": [],
   "source": [
    "nlp = spacy.load(\"de_core_news_sm\")\n",
    "for t in array:\n",
    "    doc = nlp(t)\n",
    "    for token in doc:\n",
    "        if token.text in onlyPerson:\n",
    "            personCount+=1\n",
    "        if token.text in onlyGroup:\n",
    "            groupCount+=1\n",
    "        if token.text in onlyPublic:\n",
    "            publicCount+=1\n",
    "    if (personCount > groupCount) and (personCount > publicCount):\n",
    "        result.append(0)\n",
    "        resultPerson+=1\n",
    "    elif (groupCount > personCount) and (groupCount > publicCount):\n",
    "        result.append(1)\n",
    "        resultGroup+=1\n",
    "    elif (publicCount > personCount) and (publicCount > groupCount):\n",
    "        result.append(2)\n",
    "        resultPublic+=1\n",
    "    else:\n",
    "        result.append(2)\n",
    "        resultPublic+=1\n",
    "    personCount = 0\n",
    "    groupCount = 0\n",
    "    publicCount = 0"
   ]
  },
  {
   "cell_type": "code",
   "execution_count": 14,
   "id": "85bab20a",
   "metadata": {},
   "outputs": [],
   "source": [
    "initPerson = 0\n",
    "initGroup = 0\n",
    "initPublic = 0"
   ]
  },
  {
   "cell_type": "code",
   "execution_count": 15,
   "id": "048756ee",
   "metadata": {},
   "outputs": [],
   "source": [
    "for n in target:\n",
    "    if n == 0:\n",
    "        initPerson+=1\n",
    "    if n == 1:\n",
    "        initGroup+=1\n",
    "    if n == 2:\n",
    "        initPublic+=1"
   ]
  },
  {
   "cell_type": "code",
   "execution_count": 19,
   "id": "efdf1b44",
   "metadata": {
    "scrolled": true
   },
   "outputs": [
    {
     "name": "stdout",
     "output_type": "stream",
     "text": [
      "Initial Target count:\n",
      "2854\n",
      "3207\n",
      "2020\n",
      "\n",
      "\n",
      "Result Target count:\n",
      "1937\n",
      "2222\n",
      "3922\n"
     ]
    }
   ],
   "source": [
    "print(\"Initial Target count:\")\n",
    "print(initPerson)\n",
    "print(initGroup)\n",
    "print(initPublic)\n",
    "print(\"\\n\")\n",
    "print(\"Result Target count:\")\n",
    "print(resultPerson)\n",
    "print(resultGroup)\n",
    "print(resultPublic)"
   ]
  },
  {
   "cell_type": "code",
   "execution_count": 43,
   "id": "09f3b378",
   "metadata": {},
   "outputs": [
    {
     "name": "stdout",
     "output_type": "stream",
     "text": [
      "Precision Score :  [0.91584925 0.92124212 0.4808771 ]\n",
      "Recall Score :  [0.62158374 0.63829124 0.93366337]\n",
      "F1 Score :  [0.74055521 0.75409836 0.6348031 ]\n"
     ]
    }
   ],
   "source": [
    "import sklearn\n",
    "from sklearn.metrics import precision_score, recall_score, f1_score\n",
    "print(\"Precision Score : \",precision_score(target, result, \n",
    "                                           average=None))\n",
    "print(\"Recall Score : \",recall_score(target, result, \n",
    "                                           average=None))\n",
    "print(\"F1 Score : \",f1_score(target, result, \n",
    "                                           average=None))"
   ]
  }
 ],
 "metadata": {
  "kernelspec": {
   "display_name": "Python 3 (ipykernel)",
   "language": "python",
   "name": "python3"
  },
  "language_info": {
   "codemirror_mode": {
    "name": "ipython",
    "version": 3
   },
   "file_extension": ".py",
   "mimetype": "text/x-python",
   "name": "python",
   "nbconvert_exporter": "python",
   "pygments_lexer": "ipython3",
   "version": "3.9.13"
  }
 },
 "nbformat": 4,
 "nbformat_minor": 5
}
