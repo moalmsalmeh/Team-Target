{
 "cells": [
  {
   "cell_type": "code",
   "execution_count": 1,
   "id": "ceb631cc",
   "metadata": {},
   "outputs": [],
   "source": [
    "personTweets=[]\n",
    "groupTweets=[]\n",
    "publicTweets=[]\n",
    "\n",
    "personFile = open('targetPersonTweets.txt', 'r', encoding=\"utf-8\")\n",
    "temp = personFile.readlines()\n",
    "for line in temp:\n",
    "    personTweets.append(str(line.replace(\" \\n\", \"\")).lower())\n",
    "    \n",
    "groupFile = open('targetGroupTweets.txt', 'r', encoding=\"utf-8\")\n",
    "temp = groupFile.readlines()\n",
    "for line in temp:\n",
    "    groupTweets.append(str(line.replace(\" \\n\", \"\")).lower())\n",
    "\n",
    "publicFile = open('targetPublicTweets.txt', 'r', encoding=\"utf-8\")\n",
    "temp = publicFile.readlines()\n",
    "for line in temp:\n",
    "    publicTweets.append(str(line.replace(\" \\n\", \"\")).lower())"
   ]
  },
  {
   "cell_type": "code",
   "execution_count": 2,
   "id": "e61f8f04",
   "metadata": {},
   "outputs": [],
   "source": [
    "personWords=[]\n",
    "groupWords=[]\n",
    "publicWords=[]"
   ]
  },
  {
   "cell_type": "code",
   "execution_count": 3,
   "id": "4aa3ebdd",
   "metadata": {},
   "outputs": [
    {
     "name": "stdout",
     "output_type": "stream",
     "text": [
      "2854\n",
      "3207\n",
      "2020\n"
     ]
    }
   ],
   "source": [
    "print(len(personTweets))\n",
    "print(len(groupTweets))\n",
    "print(len(publicTweets))"
   ]
  },
  {
   "cell_type": "code",
   "execution_count": 4,
   "id": "7b335537",
   "metadata": {},
   "outputs": [],
   "source": [
    "for tweet in personTweets:\n",
    "    personWords.append(tweet.split())\n",
    "personWords = sum(personWords, [])\n",
    "\n",
    "for tweet in groupTweets:\n",
    "    groupWords.append(tweet.split())\n",
    "groupWords = sum(groupWords, [])\n",
    "\n",
    "for tweet in publicTweets:\n",
    "    publicWords.append(tweet.split())\n",
    "publicWords = sum(publicWords, [])"
   ]
  },
  {
   "cell_type": "code",
   "execution_count": 5,
   "id": "fe7f24c6",
   "metadata": {},
   "outputs": [],
   "source": [
    "personUnique=[]\n",
    "groupUnique=[]\n",
    "publicUnique=[]"
   ]
  },
  {
   "cell_type": "code",
   "execution_count": 6,
   "id": "3732413c",
   "metadata": {},
   "outputs": [],
   "source": [
    "for word in personWords:\n",
    "    if word not in personUnique:\n",
    "        personUnique.append(word)\n",
    "        \n",
    "for word in groupWords:\n",
    "    if word not in groupUnique:\n",
    "        groupUnique.append(word)\n",
    "        \n",
    "for word in publicWords:\n",
    "    if word not in publicUnique:\n",
    "        publicUnique.append(word)"
   ]
  },
  {
   "cell_type": "code",
   "execution_count": 7,
   "id": "d6b5329e",
   "metadata": {},
   "outputs": [
    {
     "name": "stdout",
     "output_type": "stream",
     "text": [
      "11141\n",
      "14011\n",
      "9465\n"
     ]
    }
   ],
   "source": [
    "print(len(personUnique))\n",
    "print(len(groupUnique))\n",
    "print(len(publicUnique))"
   ]
  },
  {
   "cell_type": "code",
   "execution_count": 8,
   "id": "c736bca2",
   "metadata": {},
   "outputs": [
    {
     "name": "stdout",
     "output_type": "stream",
     "text": [
      "4960\n"
     ]
    }
   ],
   "source": [
    "#Wörter, die NUR in Person sind UND NICHT in Group ODER Public\n",
    "onlyPerson=[]\n",
    "\n",
    "for word in personUnique:\n",
    "    if word not in groupUnique:\n",
    "        if word not in publicUnique:\n",
    "            onlyPerson.append(word)    \n",
    "print(len(onlyPerson))"
   ]
  },
  {
   "cell_type": "code",
   "execution_count": 9,
   "id": "16293761",
   "metadata": {},
   "outputs": [
    {
     "name": "stdout",
     "output_type": "stream",
     "text": [
      "Wörter sind einzigartig!\n"
     ]
    }
   ],
   "source": [
    "#Test, ob onlyPerson wirklich nur Wörter hat, die weder in groupUnique, noch in publicUnique vorkommen\n",
    "wordFound=False\n",
    "\n",
    "for word in onlyPerson:\n",
    "    if word in groupUnique:\n",
    "        wordFound=True\n",
    "    if word in publicUnique:\n",
    "        wordFound=True\n",
    "        \n",
    "if wordFound is True:\n",
    "    print(\"Wörter sind nicht einzigartig!\")\n",
    "else:\n",
    "    print(\"Wörter sind einzigartig!\")"
   ]
  },
  {
   "cell_type": "code",
   "execution_count": 10,
   "id": "4c3f0acd",
   "metadata": {},
   "outputs": [
    {
     "name": "stdout",
     "output_type": "stream",
     "text": [
      "7247\n"
     ]
    }
   ],
   "source": [
    "#Wörter, die NUR in Group sind UND NICHT in Person ODER Public\n",
    "onlyGroup=[]\n",
    "\n",
    "for word in groupUnique:\n",
    "    if word not in personUnique:\n",
    "        if word not in publicUnique:\n",
    "            onlyGroup.append(word)      \n",
    "print(len(onlyGroup))"
   ]
  },
  {
   "cell_type": "code",
   "execution_count": 11,
   "id": "0ba0e9fb",
   "metadata": {},
   "outputs": [
    {
     "name": "stdout",
     "output_type": "stream",
     "text": [
      "Wörter sind einzigartig!\n"
     ]
    }
   ],
   "source": [
    "#Test, ob onlyGroup wirklich nur Wörter hat, die weder in personUnique, noch in publicUnique vorkommen\n",
    "wordFound=False\n",
    "\n",
    "for word in onlyGroup:\n",
    "    if word in personUnique:\n",
    "        wordFound=True\n",
    "    if word in publicUnique:\n",
    "        wordFound=True\n",
    "        \n",
    "if wordFound is True:\n",
    "    print(\"Wörter sind nicht einzigartig!\")\n",
    "else:\n",
    "    print(\"Wörter sind einzigartig!\")"
   ]
  },
  {
   "cell_type": "code",
   "execution_count": 12,
   "id": "8a6beaf2",
   "metadata": {},
   "outputs": [
    {
     "name": "stdout",
     "output_type": "stream",
     "text": [
      "3719\n"
     ]
    }
   ],
   "source": [
    "#Wörter, die NUR in Public sind UND NICHT in Person ODER Group\n",
    "onlyPublic=[]\n",
    "\n",
    "for word in publicUnique:\n",
    "    if word not in personUnique:\n",
    "        if word not in groupUnique:\n",
    "            onlyPublic.append(word)\n",
    "        \n",
    "print(len(onlyPublic))"
   ]
  },
  {
   "cell_type": "code",
   "execution_count": 13,
   "id": "47517f1d",
   "metadata": {},
   "outputs": [
    {
     "name": "stdout",
     "output_type": "stream",
     "text": [
      "Wörter sind einzigartig!\n"
     ]
    }
   ],
   "source": [
    "#Test, ob onlyPublic wirklich nur Wörter hat, die weder in personUnique, noch in groupUnique vorkommen\n",
    "wordFound=False\n",
    "\n",
    "for word in onlyPublic:\n",
    "    if word in personUnique:\n",
    "        wordFound=True\n",
    "    if word in groupUnique:\n",
    "        wordFound=True\n",
    "        \n",
    "if wordFound is True:\n",
    "    print(\"Wörter sind nicht einzigartig!\")\n",
    "else:\n",
    "    print(\"Wörter sind einzigartig!\")"
   ]
  },
  {
   "cell_type": "code",
   "execution_count": 14,
   "id": "90f2c0fb",
   "metadata": {},
   "outputs": [],
   "source": [
    "with open('onlyPersonWords.txt', 'w', encoding=\"utf-8\") as f:\n",
    "    for w in onlyPerson:\n",
    "        f.writelines(str(w) + \"\\n\")\n",
    "with open('onlyGroupWords.txt', 'w', encoding=\"utf-8\") as f:\n",
    "    for w in onlyGroup:\n",
    "        f.writelines(str(w) + \"\\n\")\n",
    "with open('onlyPublicWords.txt', 'w', encoding=\"utf-8\") as f:\n",
    "    for w in onlyPublic:\n",
    "        f.writelines(str(w) + \"\\n\")"
   ]
  }
 ],
 "metadata": {
  "kernelspec": {
   "display_name": "Python 3 (ipykernel)",
   "language": "python",
   "name": "python3"
  },
  "language_info": {
   "codemirror_mode": {
    "name": "ipython",
    "version": 3
   },
   "file_extension": ".py",
   "mimetype": "text/x-python",
   "name": "python",
   "nbconvert_exporter": "python",
   "pygments_lexer": "ipython3",
   "version": "3.9.13"
  }
 },
 "nbformat": 4,
 "nbformat_minor": 5
}
