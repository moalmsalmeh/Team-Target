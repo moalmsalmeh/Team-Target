{
 "cells": [
  {
   "cell_type": "code",
   "execution_count": 1,
   "id": "80b9654a",
   "metadata": {},
   "outputs": [],
   "source": [
    "import pandas as pd\n",
    "import spacy"
   ]
  },
  {
   "cell_type": "code",
   "execution_count": 2,
   "id": "1159e224",
   "metadata": {},
   "outputs": [
    {
     "data": {
      "text/plain": [
       "(2034, 8)"
      ]
     },
     "execution_count": 2,
     "metadata": {},
     "output_type": "execute_result"
    }
   ],
   "source": [
    "df = pd.read_csv(\"C:\\\\Users\\\\moham\\\\OneDrive\\\\Desktop\\\\nlp_test\\\\Team-Target\\\\Target_Files\\\\normalizedTestResult.tsv\", sep=\"\\t\")\n",
    "df1 = pd.read_table(\"/Users/moham/OneDrive/Desktop/nlp_test/Team-Target/Target_Files/Testdaten.tsv\",sep=\"\\t\")\n",
    "df1.shape"
   ]
  },
  {
   "cell_type": "code",
   "execution_count": 3,
   "id": "4d4f8956",
   "metadata": {},
   "outputs": [
    {
     "name": "stdout",
     "output_type": "stream",
     "text": [
      "2034\n"
     ]
    }
   ],
   "source": [
    "text= df.iloc[0:8132, 1 ].to_list()\n",
    "print (len(text))"
   ]
  },
  {
   "cell_type": "code",
   "execution_count": 4,
   "id": "855fe6ba",
   "metadata": {},
   "outputs": [],
   "source": [
    "#counter=0\n",
    "#for t in text:\n",
    "  #  if type(t) is float:\n",
    "    #    text.remove(t)\n",
    "   # counter+=1\n",
    "\n",
    "#print (len(text))"
   ]
  },
  {
   "cell_type": "code",
   "execution_count": 5,
   "id": "7f50c363",
   "metadata": {},
   "outputs": [],
   "source": [
    "countList=[]\n",
    "personCount=0\n",
    "groupCount=0\n",
    "publicCount=0\n",
    "counter=0\n",
    "single_pronouns=[\"du\", \"dich\", \"dein\",\"er\",\"sich\",\"sein\",\"mein\",\"meine\",\"mir\"]\n",
    "single_adress=[\"herr\", \"herrn\", \"frau\", \"junge\", \"nazi\",\"ausländer\"]\n",
    "single_politicians=[\"merkel\", \"söder\", \"spahn\", \"soeder\", \"laschet\", \"baerbock\", \"bundeskanzlerin\", \"bundeskanzler\", \"kanzler\", \"kanzlerin\",\"putin\"]\n",
    "group_pronouns=[\"euch\", \"eure\", \"euer\", \"deren\", \"ihr\",\"unsere\",\"uns\"]\n",
    "group_politics=[\"spd\", \"cdu\", \"csu\", \"afd\", \"grünen\", \"grüne\", \"union\", \"linken\", \"nazis\", \"rechten\", \"partei\", \"land\", \"terroristen\", \"demokratie\"]\n",
    "group_religion=[\"muslim\",\"christen\",\"katholisch\",\"jude\",\"buddhist\"]\n",
    "group_countries=[\"deutschland\", \"deutsche\", \"bürger\",\"türkisch\",\"araber\",\"amerikanisch\",\"berliner\",\"vietnam\"]\n",
    "group_group=[\"schwarze\"]\n",
    "public_pronouns=[\"alle\", \"wir\", \"menschen\", \"volk\", \"bevölkerung\", \"welt\", \"bewohner\",\"man\"]\n",
    "testList=public_pronouns"
   ]
  },
  {
   "cell_type": "code",
   "execution_count": 6,
   "id": "57b8a0d6",
   "metadata": {},
   "outputs": [],
   "source": [
    "result=[]\n",
    "personCount = 0\n",
    "groupCount = 0\n",
    "publicCount = 0\n",
    "resultPerson = 0\n",
    "resultGroup = 0\n",
    "resultPublic = 0"
   ]
  },
  {
   "cell_type": "code",
   "execution_count": 7,
   "id": "fa9968ad",
   "metadata": {},
   "outputs": [],
   "source": [
    "nlp = spacy.load(\"de_core_news_sm\")\n",
    "for t in text:\n",
    "    if type(t) is float:\n",
    "        result.append(\"?\")\n",
    "        continue\n",
    "    doc = nlp(t)\n",
    "    for token in doc:\n",
    "        #print (type(token.text))\n",
    "        \n",
    "        if token.text in single_pronouns or token.text in single_adress or token.text in single_politicians :\n",
    "            personCount+=1\n",
    "        if token.text in group_pronouns or token.text in group_politics  or token.text in group_countries or token.text in group_group or token.text in group_religion :\n",
    "            groupCount+=1\n",
    "        if token.text in public_pronouns:\n",
    "            publicCount+=1\n",
    "    if (personCount > groupCount) and (personCount > publicCount):\n",
    "        result.append(0)\n",
    "        resultPerson+=1\n",
    "    elif (groupCount > personCount) and (groupCount > publicCount):\n",
    "        result.append(1)\n",
    "        resultGroup+=1\n",
    "    elif (publicCount > personCount) and (publicCount > groupCount):\n",
    "        result.append(2)\n",
    "        resultPublic+=1\n",
    "    else:\n",
    "        result.append(2)\n",
    "        resultPublic+=1\n",
    "    personCount = 0\n",
    "    groupCount = 0\n",
    "    publicCount = 0"
   ]
  },
  {
   "cell_type": "code",
   "execution_count": 8,
   "id": "69acf667",
   "metadata": {},
   "outputs": [
    {
     "name": "stdout",
     "output_type": "stream",
     "text": [
      "2034\n"
     ]
    }
   ],
   "source": [
    "#print(result)\n",
    "print (len(result))"
   ]
  },
  {
   "cell_type": "code",
   "execution_count": 9,
   "id": "6c27b287",
   "metadata": {},
   "outputs": [
    {
     "name": "stdout",
     "output_type": "stream",
     "text": [
      "                                                 Text target\n",
      "0   sonst käme man ja auf die idee dass laschet sc...      0\n",
      "1   jetzt beginnt die wahlwerbung für die wie vora...      2\n",
      "2   na wenn da mal nicht ein paar querdenker mitte...      2\n",
      "3   danke hatte ich schon is wie ne grippe also ni...      0\n",
      "4   es gibt weitaus wichtigere punkte um für gleic...      2\n",
      "5   vor monaten schrieb ich mal wenn die leute all...      2\n",
      "6   die meinung im oder bei ist niemals ausgewogen...      1\n",
      "7   uhr frohnhauser markt platz essen mit offenem ...      2\n",
      "8   personen angreifen halte ich für das mittel de...      2\n",
      "9   cn naziterror du läufst mit paar linken patche...      0\n",
      "10  nicht meine musik aber der text widerspricht s...      0\n",
      "11  so eine rede hat noch nicht einmal die afd hin...      2\n",
      "12  nein denen muss einfach die möglichkeit genomm...      0\n",
      "13  die bekommt man schon nicht in den griff dann ...      2\n",
      "14  hier du depp und mit deinen gewaltfantasien so...      0\n",
      "15                                lass mich raten afd      1\n",
      "16  es hat doch mittlerweile jeder verstanden d ke...      0\n",
      "17  sie würde einige leute kennen die vom tragen d...      2\n",
      "18                              die nenne ich freunde      2\n",
      "19  partner langjähriger kollege u freund muss nac...      0\n"
     ]
    }
   ],
   "source": [
    "df = pd.DataFrame ({'Text': text ,'target':result})\n",
    "print (df[0:20])"
   ]
  },
  {
   "cell_type": "code",
   "execution_count": 10,
   "id": "9a102499",
   "metadata": {},
   "outputs": [],
   "source": [
    "#df1"
   ]
  },
  {
   "cell_type": "code",
   "execution_count": 11,
   "id": "9edeea87",
   "metadata": {},
   "outputs": [],
   "source": [
    "\n",
    "id= df1.iloc[0:8132, 0 ].to_list()\n",
    "text= df1.iloc[0:8132, 1 ].to_list()\n",
    "date= df1.iloc[0:8132, 2 ].to_list()\n",
    "author_id= df1.iloc[0:8132, 3 ].to_list()\n",
    "like= df1.iloc[0:8132, 4 ].to_list()\n",
    "quote= df1.iloc[0:8132, 5 ].to_list()\n",
    "retweet= df1.iloc[0:8132, 6 ].to_list()\n",
    "replay= df1.iloc[0:8132, 7 ].to_list()"
   ]
  },
  {
   "cell_type": "code",
   "execution_count": 12,
   "id": "3876476e",
   "metadata": {},
   "outputs": [],
   "source": [
    "df1 = pd.DataFrame ({'c_id': id ,'c_text':text,'date': date ,'author_id':author_id,'like_count': like ,'quote_count':quote,'retweet_count': retweet,'reply_count': replay,'target':result})"
   ]
  },
  {
   "cell_type": "code",
   "execution_count": 13,
   "id": "29ec7f45",
   "metadata": {},
   "outputs": [
    {
     "data": {
      "text/html": [
       "<div>\n",
       "<style scoped>\n",
       "    .dataframe tbody tr th:only-of-type {\n",
       "        vertical-align: middle;\n",
       "    }\n",
       "\n",
       "    .dataframe tbody tr th {\n",
       "        vertical-align: top;\n",
       "    }\n",
       "\n",
       "    .dataframe thead th {\n",
       "        text-align: right;\n",
       "    }\n",
       "</style>\n",
       "<table border=\"1\" class=\"dataframe\">\n",
       "  <thead>\n",
       "    <tr style=\"text-align: right;\">\n",
       "      <th></th>\n",
       "      <th>c_id</th>\n",
       "      <th>c_text</th>\n",
       "      <th>date</th>\n",
       "      <th>author_id</th>\n",
       "      <th>like_count</th>\n",
       "      <th>quote_count</th>\n",
       "      <th>retweet_count</th>\n",
       "      <th>reply_count</th>\n",
       "      <th>target</th>\n",
       "    </tr>\n",
       "  </thead>\n",
       "  <tbody>\n",
       "    <tr>\n",
       "      <th>0</th>\n",
       "      <td>1.384217e+18</td>\n",
       "      <td>@MichaelBroecker @HeuteBluhm @ArminLaschet @CD...</td>\n",
       "      <td>2021-04-19T18:46:54Z</td>\n",
       "      <td>1.109805e+18</td>\n",
       "      <td>1</td>\n",
       "      <td>0</td>\n",
       "      <td>0</td>\n",
       "      <td>0</td>\n",
       "      <td>0</td>\n",
       "    </tr>\n",
       "    <tr>\n",
       "      <th>1</th>\n",
       "      <td>1.397925e+18</td>\n",
       "      <td>@reitschuster Jetzt beginnt die Wahlwerbung fü...</td>\n",
       "      <td>2021-05-27T14:38:06Z</td>\n",
       "      <td>1.373293e+18</td>\n",
       "      <td>3</td>\n",
       "      <td>0</td>\n",
       "      <td>0</td>\n",
       "      <td>0</td>\n",
       "      <td>2</td>\n",
       "    </tr>\n",
       "    <tr>\n",
       "      <th>2</th>\n",
       "      <td>1.391853e+18</td>\n",
       "      <td>@welt Na wenn DA mal nicht ein paar Querdenker...</td>\n",
       "      <td>2021-05-10T20:30:49Z</td>\n",
       "      <td>1.217412e+18</td>\n",
       "      <td>0</td>\n",
       "      <td>0</td>\n",
       "      <td>0</td>\n",
       "      <td>0</td>\n",
       "      <td>2</td>\n",
       "    </tr>\n",
       "    <tr>\n",
       "      <th>3</th>\n",
       "      <td>1.383950e+18</td>\n",
       "      <td>@Eiterdaus Danke hatte ich schon. Is wie ne Gr...</td>\n",
       "      <td>2021-04-19T01:07:10Z</td>\n",
       "      <td>7.673723e+17</td>\n",
       "      <td>0</td>\n",
       "      <td>0</td>\n",
       "      <td>0</td>\n",
       "      <td>1</td>\n",
       "      <td>0</td>\n",
       "    </tr>\n",
       "    <tr>\n",
       "      <th>4</th>\n",
       "      <td>1.400755e+18</td>\n",
       "      <td>@janboehm Es gibt weitaus wichtigere Punkte um...</td>\n",
       "      <td>2021-06-04T10:04:10Z</td>\n",
       "      <td>1.252295e+18</td>\n",
       "      <td>1109</td>\n",
       "      <td>1</td>\n",
       "      <td>9</td>\n",
       "      <td>19</td>\n",
       "      <td>2</td>\n",
       "    </tr>\n",
       "    <tr>\n",
       "      <th>...</th>\n",
       "      <td>...</td>\n",
       "      <td>...</td>\n",
       "      <td>...</td>\n",
       "      <td>...</td>\n",
       "      <td>...</td>\n",
       "      <td>...</td>\n",
       "      <td>...</td>\n",
       "      <td>...</td>\n",
       "      <td>...</td>\n",
       "    </tr>\n",
       "    <tr>\n",
       "      <th>2029</th>\n",
       "      <td>1.391262e+18</td>\n",
       "      <td>@haui777 @PeterBe38098838 @gehtsnurmirso @Emma...</td>\n",
       "      <td>2021-05-09T05:22:47Z</td>\n",
       "      <td>1.360223e+18</td>\n",
       "      <td>3</td>\n",
       "      <td>0</td>\n",
       "      <td>0</td>\n",
       "      <td>0</td>\n",
       "      <td>0</td>\n",
       "    </tr>\n",
       "    <tr>\n",
       "      <th>2030</th>\n",
       "      <td>1.388502e+18</td>\n",
       "      <td>Aufdringliche Anwohner, fehlende Masken: Postz...</td>\n",
       "      <td>2021-05-01T14:35:08Z</td>\n",
       "      <td>1.284135e+18</td>\n",
       "      <td>0</td>\n",
       "      <td>0</td>\n",
       "      <td>0</td>\n",
       "      <td>0</td>\n",
       "      <td>0</td>\n",
       "    </tr>\n",
       "    <tr>\n",
       "      <th>2031</th>\n",
       "      <td>1.390475e+18</td>\n",
       "      <td>3/807.\\n\"oder\"... \"summieren\" modus \"Impfstoff...</td>\n",
       "      <td>2021-05-07T01:13:24Z</td>\n",
       "      <td>9.240668e+17</td>\n",
       "      <td>0</td>\n",
       "      <td>0</td>\n",
       "      <td>0</td>\n",
       "      <td>0</td>\n",
       "      <td>0</td>\n",
       "    </tr>\n",
       "    <tr>\n",
       "      <th>2032</th>\n",
       "      <td>1.390686e+18</td>\n",
       "      <td>@Karl_Lauterbach Was dieser nazi Lautbach jede...</td>\n",
       "      <td>2021-05-07T15:13:23Z</td>\n",
       "      <td>1.386687e+18</td>\n",
       "      <td>1</td>\n",
       "      <td>0</td>\n",
       "      <td>0</td>\n",
       "      <td>0</td>\n",
       "      <td>2</td>\n",
       "    </tr>\n",
       "    <tr>\n",
       "      <th>2033</th>\n",
       "      <td>1.394100e+18</td>\n",
       "      <td>@Ichbins2009 @DrStrompen @ZentralratJuden Nebe...</td>\n",
       "      <td>2021-05-17T01:18:10Z</td>\n",
       "      <td>1.211037e+18</td>\n",
       "      <td>6</td>\n",
       "      <td>0</td>\n",
       "      <td>0</td>\n",
       "      <td>1</td>\n",
       "      <td>0</td>\n",
       "    </tr>\n",
       "  </tbody>\n",
       "</table>\n",
       "<p>2034 rows × 9 columns</p>\n",
       "</div>"
      ],
      "text/plain": [
       "              c_id                                             c_text  \\\n",
       "0     1.384217e+18  @MichaelBroecker @HeuteBluhm @ArminLaschet @CD...   \n",
       "1     1.397925e+18  @reitschuster Jetzt beginnt die Wahlwerbung fü...   \n",
       "2     1.391853e+18  @welt Na wenn DA mal nicht ein paar Querdenker...   \n",
       "3     1.383950e+18  @Eiterdaus Danke hatte ich schon. Is wie ne Gr...   \n",
       "4     1.400755e+18  @janboehm Es gibt weitaus wichtigere Punkte um...   \n",
       "...            ...                                                ...   \n",
       "2029  1.391262e+18  @haui777 @PeterBe38098838 @gehtsnurmirso @Emma...   \n",
       "2030  1.388502e+18  Aufdringliche Anwohner, fehlende Masken: Postz...   \n",
       "2031  1.390475e+18  3/807.\\n\"oder\"... \"summieren\" modus \"Impfstoff...   \n",
       "2032  1.390686e+18  @Karl_Lauterbach Was dieser nazi Lautbach jede...   \n",
       "2033  1.394100e+18  @Ichbins2009 @DrStrompen @ZentralratJuden Nebe...   \n",
       "\n",
       "                      date     author_id  like_count  quote_count  \\\n",
       "0     2021-04-19T18:46:54Z  1.109805e+18           1            0   \n",
       "1     2021-05-27T14:38:06Z  1.373293e+18           3            0   \n",
       "2     2021-05-10T20:30:49Z  1.217412e+18           0            0   \n",
       "3     2021-04-19T01:07:10Z  7.673723e+17           0            0   \n",
       "4     2021-06-04T10:04:10Z  1.252295e+18        1109            1   \n",
       "...                    ...           ...         ...          ...   \n",
       "2029  2021-05-09T05:22:47Z  1.360223e+18           3            0   \n",
       "2030  2021-05-01T14:35:08Z  1.284135e+18           0            0   \n",
       "2031  2021-05-07T01:13:24Z  9.240668e+17           0            0   \n",
       "2032  2021-05-07T15:13:23Z  1.386687e+18           1            0   \n",
       "2033  2021-05-17T01:18:10Z  1.211037e+18           6            0   \n",
       "\n",
       "      retweet_count  reply_count target  \n",
       "0                 0            0      0  \n",
       "1                 0            0      2  \n",
       "2                 0            0      2  \n",
       "3                 0            1      0  \n",
       "4                 9           19      2  \n",
       "...             ...          ...    ...  \n",
       "2029              0            0      0  \n",
       "2030              0            0      0  \n",
       "2031              0            0      0  \n",
       "2032              0            0      2  \n",
       "2033              0            1      0  \n",
       "\n",
       "[2034 rows x 9 columns]"
      ]
     },
     "execution_count": 13,
     "metadata": {},
     "output_type": "execute_result"
    }
   ],
   "source": [
    "df1"
   ]
  },
  {
   "cell_type": "code",
   "execution_count": 14,
   "id": "13186c01",
   "metadata": {},
   "outputs": [],
   "source": [
    "df1.to_csv('C:/Users/moham/OneDrive/Desktop/nlp_test/Team-Target/Target_Files/classified_Target_Data.tsv', sep=\"\\t\")"
   ]
  }
 ],
 "metadata": {
  "kernelspec": {
   "display_name": "Python 3 (ipykernel)",
   "language": "python",
   "name": "python3"
  },
  "language_info": {
   "codemirror_mode": {
    "name": "ipython",
    "version": 3
   },
   "file_extension": ".py",
   "mimetype": "text/x-python",
   "name": "python",
   "nbconvert_exporter": "python",
   "pygments_lexer": "ipython3",
   "version": "3.9.13"
  }
 },
 "nbformat": 4,
 "nbformat_minor": 5
}
