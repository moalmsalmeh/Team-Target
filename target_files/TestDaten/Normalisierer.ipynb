{
 "cells": [
  {
   "cell_type": "code",
   "execution_count": 1,
   "id": "187b2468",
   "metadata": {
    "pycharm": {
     "is_executing": true
    }
   },
   "outputs": [],
   "source": [
    "import spacy\n",
    "import pandas as pd"
   ]
  },
  {
   "cell_type": "code",
   "execution_count": 2,
   "id": "b7b4bf61",
   "metadata": {
    "pycharm": {
     "is_executing": true
    }
   },
   "outputs": [
    {
     "data": {
      "text/plain": [
       "(2034, 1)"
      ]
     },
     "execution_count": 2,
     "metadata": {},
     "output_type": "execute_result"
    }
   ],
   "source": [
    "df = pd.read_table(\"/Users/moham/OneDrive/Desktop/nlp_test/Team-Target/Target_Files/Testdaten.tsv\", usecols=['c_text'])\n",
    "df.shape"
   ]
  },
  {
   "cell_type": "code",
   "execution_count": 3,
   "id": "c7e2a9e5",
   "metadata": {},
   "outputs": [
    {
     "name": "stdout",
     "output_type": "stream",
     "text": [
      "c_text    object\n",
      "dtype: object\n"
     ]
    }
   ],
   "source": [
    "print(df.dtypes)"
   ]
  },
  {
   "cell_type": "code",
   "execution_count": 4,
   "id": "b02dea50",
   "metadata": {},
   "outputs": [],
   "source": [
    "import spacy\n",
    "nlp = spacy.load(\"de_core_news_sm\")"
   ]
  },
  {
   "cell_type": "code",
   "execution_count": 5,
   "id": "106758bd",
   "metadata": {},
   "outputs": [],
   "source": [
    "texts=df['c_text'] \n",
    "tweet_words = []\n",
    "n_text = \"\"\n",
    "for tweet in texts:\n",
    "    doc = nlp(tweet)\n",
    "    for token in doc:\n",
    "        if token.is_alpha:\n",
    "            n_text+=token.text.lower()+\" \"\n",
    "    \n",
    "    tweet_words.append(n_text)\n",
    "    n_text=\"\""
   ]
  },
  {
   "cell_type": "code",
   "execution_count": 6,
   "id": "86b705b8",
   "metadata": {},
   "outputs": [
    {
     "name": "stdout",
     "output_type": "stream",
     "text": [
      "['sonst käme man ja auf die idee dass laschet schon immer unbeliebt war aber rauslief und söder schon immer an der basis beliebt aber rauslief', 'jetzt beginnt die wahlwerbung für die wie vorausgesagt', 'na wenn da mal nicht ein paar querdenker mitten in der masse standen', 'danke hatte ich schon is wie ne grippe also nicht ängstlich is nur für alte und kranke wirklich gefährlich ja das zeigt was du für ein intoleranter verborter mensch bist der den mainstream müll aus den medien nachplappert hauptsache man kann nazi schreiben', 'es gibt weitaus wichtigere punkte um für gleichberechtigung zu sorgen ich habe mi h noch nie benachteiligt gefühlt nur weil ein maskuliner artikel vor einem wort stand', 'vor monaten schrieb ich mal wenn die leute alle zuhause verrecken würden statt anonym auf der its wären wir schon durch mit lockdown das ist das paradoxon heutzutage die deppen sehen nix mehr', 'die meinung im oder bei ist niemals ausgewogen sondern immer nur linksgrün gefärbt würde ein moderator die afd ähnlich über den grünen klee loben wie es täglich bei den grünen geschieht hätte er am nächsten tag sein kündigungsschreiben in der hand', 'uhr frohnhauser markt platz essen mit offenem mikrofon eine demonstration wurde bisher untersagt aktuelles danach protest gegen die faschisten', 'personen angreifen halte ich für das mittel der anderen und die aussage diffamiert menschen mit persönlichkeitsstörung so gesehen war meine bemerkung auch nicht okay', 'cn naziterror du läufst mit paar linken patches am rucksack durch die gegend nazis jagen dich durch die straßen wenn sie dich erwischen droht lebensgefahr']\n"
     ]
    }
   ],
   "source": [
    "counter=0\n",
    "for t in tweet_words:\n",
    "    tweet_words[counter] = t[:-1]\n",
    "    counter+=1\n",
    "print(tweet_words[0:10])"
   ]
  },
  {
   "cell_type": "code",
   "execution_count": 7,
   "id": "ea4904a6",
   "metadata": {},
   "outputs": [
    {
     "name": "stdout",
     "output_type": "stream",
     "text": [
      "2034\n"
     ]
    }
   ],
   "source": [
    "df['c_text']=tweet_words\n",
    "print(len(df))"
   ]
  },
  {
   "cell_type": "code",
   "execution_count": 8,
   "id": "55b61862",
   "metadata": {},
   "outputs": [],
   "source": [
    "df.to_csv('C:/Users/moham/OneDrive/Desktop/nlp_test/Team-Target/Target_Files/normalizedTestResult.tsv', sep=\"\\t\")"
   ]
  },
  {
   "cell_type": "code",
   "execution_count": 9,
   "id": "c186bd37",
   "metadata": {},
   "outputs": [
    {
     "name": "stdout",
     "output_type": "stream",
     "text": [
      "                                                   Text\n",
      "0     sonst käme man ja auf die idee dass laschet sc...\n",
      "1     jetzt beginnt die wahlwerbung für die wie vora...\n",
      "2     na wenn da mal nicht ein paar querdenker mitte...\n",
      "3     danke hatte ich schon is wie ne grippe also ni...\n",
      "4     es gibt weitaus wichtigere punkte um für gleic...\n",
      "...                                                 ...\n",
      "2029  herr becker ist so mutig das er sich jeder dis...\n",
      "2030  aufdringliche anwohner fehlende masken postzus...\n",
      "2031  oder summieren modus coronavirus pandemie ents...\n",
      "2032  was dieser nazi lautbach jeden tag postillion ...\n",
      "2033  nebelkerze die im clip haben oft nen doppelpas...\n",
      "\n",
      "[2034 rows x 1 columns]\n"
     ]
    }
   ],
   "source": [
    "df = pd.DataFrame ({'Text': tweet_words })\n",
    "\n",
    "print (df)"
   ]
  },
  {
   "cell_type": "code",
   "execution_count": null,
   "id": "93cc941e",
   "metadata": {},
   "outputs": [],
   "source": []
  }
 ],
 "metadata": {
  "kernelspec": {
   "display_name": "Python 3 (ipykernel)",
   "language": "python",
   "name": "python3"
  },
  "language_info": {
   "codemirror_mode": {
    "name": "ipython",
    "version": 3
   },
   "file_extension": ".py",
   "mimetype": "text/x-python",
   "name": "python",
   "nbconvert_exporter": "python",
   "pygments_lexer": "ipython3",
   "version": "3.9.13"
  }
 },
 "nbformat": 4,
 "nbformat_minor": 5
}
