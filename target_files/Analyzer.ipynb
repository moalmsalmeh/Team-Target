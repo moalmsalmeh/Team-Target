{
 "cells": [
  {
   "cell_type": "code",
   "execution_count": 1,
   "id": "b7a50457",
   "metadata": {},
   "outputs": [],
   "source": [
    "import pandas as pd\n",
    "import spacy"
   ]
  },
  {
   "cell_type": "code",
   "execution_count": 2,
   "id": "c659a77f",
   "metadata": {},
   "outputs": [],
   "source": [
    "df = pd.read_csv(\"$PATH\\\\normalizedResult.tsv\", sep=\"\\t\")\n"
   ]
  },
  {
   "cell_type": "code",
   "execution_count": 3,
   "id": "75a5ba7c",
   "metadata": {},
   "outputs": [
    {
     "name": "stdout",
     "output_type": "stream",
     "text": [
      "8132\n",
      "8132\n"
     ]
    }
   ],
   "source": [
    "target = (df.iloc[0:8132 , 2 ].to_list())\n",
    "text= df.iloc[0:8132, 1 ].to_list()\n",
    "print (len(text))\n",
    "print (len(target))"
   ]
  },
  {
   "cell_type": "code",
   "execution_count": 4,
   "id": "d12fb483",
   "metadata": {},
   "outputs": [
    {
     "name": "stdout",
     "output_type": "stream",
     "text": [
      "8081\n",
      "8081\n"
     ]
    }
   ],
   "source": [
    "counter=0\n",
    "for t in text:\n",
    "    if type(t) is float:\n",
    "        text.remove(t)\n",
    "        target.remove(target[counter])\n",
    "    counter+=1\n",
    "\n",
    "print (len(text))\n",
    "print(len(target))"
   ]
  },
  {
   "cell_type": "code",
   "execution_count": 5,
   "id": "636f64c6",
   "metadata": {},
   "outputs": [],
   "source": [
    "from sklearn.model_selection import train_test_split\n",
    "\n",
    "X_train, X_test, y_train, y_test = train_test_split(\n",
    "    text, \n",
    "    target, \n",
    "    test_size=0.2, # 20% samples will go to test dataset\n",
    "    random_state=2022, #-> same order of dataset\n",
    "    stratify=target\n",
    ")"
   ]
  },
  {
   "cell_type": "code",
   "execution_count": 6,
   "id": "4f968ec9",
   "metadata": {},
   "outputs": [],
   "source": [
    "###TARGET SPLITTING OF 0.8 DATA###\n",
    "targetPerson=[]\n",
    "targetGroup=[]\n",
    "targetPublic=[]"
   ]
  },
  {
   "cell_type": "code",
   "execution_count": 7,
   "id": "20a2e5e4",
   "metadata": {},
   "outputs": [],
   "source": [
    "counter=0\n",
    "for t in X_train:\n",
    "    if y_train[counter] == 0:\n",
    "        targetPerson.append(t)\n",
    "    elif y_train[counter] == 1:\n",
    "        targetGroup.append(t)\n",
    "    else:\n",
    "        targetPublic.append(t)\n",
    "    counter+=1\n",
    "###TARGET SPLITTING END###"
   ]
  },
  {
   "cell_type": "code",
   "execution_count": 8,
   "id": "a98795d0",
   "metadata": {},
   "outputs": [],
   "source": [
    "###UNIQUE WORD SPLITTING OF 0.8 DATA###\n",
    "personWords=[]\n",
    "groupWords=[]\n",
    "publicWords=[]"
   ]
  },
  {
   "cell_type": "code",
   "execution_count": 9,
   "id": "80deaef6",
   "metadata": {},
   "outputs": [],
   "source": [
    "for tweet in targetPerson:\n",
    "    personWords.append(tweet.split())\n",
    "personWords = sum(personWords, [])\n",
    "\n",
    "for tweet in targetGroup:\n",
    "    groupWords.append(tweet.split())\n",
    "groupWords = sum(groupWords, [])\n",
    "\n",
    "for tweet in targetPublic:\n",
    "    publicWords.append(tweet.split())\n",
    "publicWords = sum(publicWords, [])"
   ]
  },
  {
   "cell_type": "code",
   "execution_count": 10,
   "id": "23c327a9",
   "metadata": {},
   "outputs": [],
   "source": [
    "personUnique=[]\n",
    "groupUnique=[]\n",
    "publicUnique=[]"
   ]
  },
  {
   "cell_type": "code",
   "execution_count": 11,
   "id": "bb041fc2",
   "metadata": {},
   "outputs": [],
   "source": [
    "for word in personWords:\n",
    "    if word not in personUnique:\n",
    "        personUnique.append(word)\n",
    "        \n",
    "for word in groupWords:\n",
    "    if word not in groupUnique:\n",
    "        groupUnique.append(word)\n",
    "        \n",
    "for word in publicWords:\n",
    "    if word not in publicUnique:\n",
    "        publicUnique.append(word)"
   ]
  },
  {
   "cell_type": "code",
   "execution_count": 12,
   "id": "60856d92",
   "metadata": {},
   "outputs": [],
   "source": [
    "onlyPerson=[]\n",
    "\n",
    "for word in personUnique:\n",
    "    if word not in groupUnique:\n",
    "        if word not in publicUnique:\n",
    "            onlyPerson.append(word)"
   ]
  },
  {
   "cell_type": "code",
   "execution_count": 13,
   "id": "ae9841cf",
   "metadata": {},
   "outputs": [],
   "source": [
    "onlyGroup=[]\n",
    "\n",
    "for word in groupUnique:\n",
    "    if word not in personUnique:\n",
    "        if word not in publicUnique:\n",
    "            onlyGroup.append(word)"
   ]
  },
  {
   "cell_type": "code",
   "execution_count": 14,
   "id": "ad616fce",
   "metadata": {},
   "outputs": [],
   "source": [
    "onlyPublic=[]\n",
    "\n",
    "for word in publicUnique:\n",
    "    if word not in personUnique:\n",
    "        if word not in groupUnique:\n",
    "            onlyPublic.append(word)\n",
    "###WORD SPLITTING END###"
   ]
  },
  {
   "cell_type": "code",
   "execution_count": 15,
   "id": "50f34fd8",
   "metadata": {},
   "outputs": [],
   "source": [
    "personCount = 0\n",
    "groupCount = 0\n",
    "publicCount = 0\n",
    "resultPerson = 0\n",
    "resultGroup = 0\n",
    "resultPublic = 0"
   ]
  },
  {
   "cell_type": "code",
   "execution_count": 16,
   "id": "7d107158",
   "metadata": {},
   "outputs": [],
   "source": [
    "result=[]"
   ]
  },
  {
   "cell_type": "code",
   "execution_count": 17,
   "id": "39a47514",
   "metadata": {},
   "outputs": [],
   "source": [
    "# nlp = spacy.load(\"de_core_news_sm\")\n",
    "# for t in X_test:\n",
    "#     doc = nlp(t)\n",
    "#     for token in doc:\n",
    "#         if token.text in onlyPerson:\n",
    "#             personCount+=1.2\n",
    "#         if token.text in onlyGroup:\n",
    "#             groupCount+=1.2\n",
    "#         if token.text in onlyPublic:\n",
    "#             publicCount+=1\n",
    "#     if (personCount > groupCount) and (personCount > publicCount):\n",
    "#         result.append(0)\n",
    "#         resultPerson+=1\n",
    "#     elif (groupCount > personCount) and (groupCount > publicCount):\n",
    "#         result.append(1)\n",
    "#         resultGroup+=1\n",
    "#     elif (publicCount > personCount) and (publicCount > groupCount):\n",
    "#         result.append(2)\n",
    "#         resultPublic+=1\n",
    "#     else:\n",
    "#         result.append(2)\n",
    "#         resultPublic+=1\n",
    "#     personCount = 0\n",
    "#     groupCount = 0\n",
    "#     publicCount = 0"
   ]
  },
  {
   "cell_type": "code",
   "execution_count": 18,
   "id": "7091e571",
   "metadata": {},
   "outputs": [],
   "source": [
    "import sklearn\n",
    "from sklearn.metrics import accuracy_score\n",
    "from sklearn.metrics import precision_score, recall_score, f1_score"
   ]
  },
  {
   "cell_type": "code",
   "execution_count": 20,
   "id": "b821d103",
   "metadata": {
    "scrolled": true
   },
   "outputs": [
    {
     "name": "stdout",
     "output_type": "stream",
     "text": [
      "Best Acc:\n",
      "0.3246753246753247\n",
      "for values:\n"
     ]
    },
    {
     "ename": "TypeError",
     "evalue": "can only concatenate str (not \"int\") to str",
     "output_type": "error",
     "traceback": [
      "\u001b[1;31m---------------------------------------------------------------------------\u001b[0m",
      "\u001b[1;31mTypeError\u001b[0m                                 Traceback (most recent call last)",
      "\u001b[1;32m~\\AppData\\Local\\Temp\\ipykernel_11284\\2247312001.py\u001b[0m in \u001b[0;36m<module>\u001b[1;34m\u001b[0m\n\u001b[0;32m     47\u001b[0m \u001b[0mprint\u001b[0m\u001b[1;33m(\u001b[0m\u001b[0mbestAcc\u001b[0m\u001b[1;33m)\u001b[0m\u001b[1;33m\u001b[0m\u001b[1;33m\u001b[0m\u001b[0m\n\u001b[0;32m     48\u001b[0m \u001b[0mprint\u001b[0m\u001b[1;33m(\u001b[0m\u001b[1;34m\"for values:\"\u001b[0m\u001b[1;33m)\u001b[0m\u001b[1;33m\u001b[0m\u001b[1;33m\u001b[0m\u001b[0m\n\u001b[1;32m---> 49\u001b[1;33m \u001b[0mprint\u001b[0m\u001b[1;33m(\u001b[0m\u001b[1;34m\"X: \"\u001b[0m \u001b[1;33m+\u001b[0m \u001b[0mbestX\u001b[0m\u001b[1;33m)\u001b[0m\u001b[1;33m\u001b[0m\u001b[1;33m\u001b[0m\u001b[0m\n\u001b[0m\u001b[0;32m     50\u001b[0m \u001b[0mprint\u001b[0m\u001b[1;33m(\u001b[0m\u001b[1;34m\"Y:\"\u001b[0m \u001b[1;33m+\u001b[0m \u001b[0mbestY\u001b[0m\u001b[1;33m)\u001b[0m\u001b[1;33m\u001b[0m\u001b[1;33m\u001b[0m\u001b[0m\n\u001b[0;32m     51\u001b[0m \u001b[0mprint\u001b[0m\u001b[1;33m(\u001b[0m\u001b[1;34m\"Z:\"\u001b[0m \u001b[1;33m+\u001b[0m \u001b[0mbestZ\u001b[0m\u001b[1;33m)\u001b[0m\u001b[1;33m\u001b[0m\u001b[1;33m\u001b[0m\u001b[0m\n",
      "\u001b[1;31mTypeError\u001b[0m: can only concatenate str (not \"int\") to str"
     ]
    }
   ],
   "source": [
    "for t in X_test:\n",
    "    doc = t.split()\n",
    "    for token in doc:\n",
    "        if token in onlyPerson:\n",
    "            personCount+=5\n",
    "        if token in onlyGroup:\n",
    "            groupCount+=4\n",
    "        if token in onlyPublic:\n",
    "            publicCount+=3\n",
    "    if (personCount > groupCount) and (personCount > publicCount):\n",
    "        result.append(0)\n",
    "        resultPerson+=1\n",
    "    elif (groupCount > personCount) and (groupCount > publicCount):\n",
    "        result.append(1)\n",
    "        resultGroup+=1\n",
    "    elif (publicCount > personCount) and (publicCount > groupCount):\n",
    "        result.append(2)\n",
    "        resultPublic+=1\n",
    "    else:\n",
    "        result.append(2)\n",
    "        resultPublic+=1\n",
    "    personCount = 0\n",
    "    groupCount = 0\n",
    "    publicCount = 0\n",
    "#             print(\"Precision Score :  \",precision_score(y_test, result, \n",
    "#                                            average=None))\n",
    "#             print(\"Recall Score : \",recall_score(y_test, result, \n",
    "#                                            average=None))\n",
    "#             print(\"F1 Score : \",f1_score(y_test, result, \n",
    "#                                            average=None))\n",
    "#             print(\"The accuracy of prediction is: \", accuracy)"
   ]
  },
  {
   "cell_type": "code",
   "execution_count": 21,
   "id": "6a831e89",
   "metadata": {},
   "outputs": [
    {
     "name": "stdout",
     "output_type": "stream",
     "text": [
      "Best Acc:\n",
      "0.3246753246753247\n",
      "for values:\n",
      "X: 5\n",
      "Y:4\n",
      "Z:3\n"
     ]
    }
   ],
   "source": [
    "print(\"Best Acc:\")\n",
    "print(bestAcc)\n",
    "print(\"for values:\")\n",
    "print(\"X: \" + str(bestX))\n",
    "print(\"Y:\" + str(bestY))\n",
    "print(\"Z:\" + str(bestZ))"
   ]
  }
 ],
 "metadata": {
  "kernelspec": {
   "display_name": "Python 3 (ipykernel)",
   "language": "python",
   "name": "python3"
  },
  "language_info": {
   "codemirror_mode": {
    "name": "ipython",
    "version": 3
   },
   "file_extension": ".py",
   "mimetype": "text/x-python",
   "name": "python",
   "nbconvert_exporter": "python",
   "pygments_lexer": "ipython3",
   "version": "3.9.13"
  }
 },
 "nbformat": 4,
 "nbformat_minor": 5
}
