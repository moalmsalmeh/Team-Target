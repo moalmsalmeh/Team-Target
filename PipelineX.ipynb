{
 "cells": [
  {
   "cell_type": "code",
   "execution_count": null,
   "id": "00af3405",
   "metadata": {},
   "outputs": [],
   "source": [
    "import pandas as pd"
   ]
  },
  {
   "cell_type": "code",
   "execution_count": null,
   "id": "ff2ac2df",
   "metadata": {},
   "outputs": [],
   "source": [
    "df = pd.read_csv(\"C:\\\\Users\\\\User\\\\Desktop\\\\nlp\\\\Entwicklungsdaten.tsv\", sep=\"\\t\")"
   ]
  },
  {
   "cell_type": "code",
   "execution_count": null,
   "id": "61970f9d",
   "metadata": {},
   "outputs": [],
   "source": [
    "text= df.iloc[0:8132, 1 ]"
   ]
  },
  {
   "cell_type": "code",
   "execution_count": null,
   "id": "22f9211a",
   "metadata": {
    "scrolled": false
   },
   "outputs": [],
   "source": [
    "#print (text)"
   ]
  },
  {
   "cell_type": "code",
   "execution_count": null,
   "id": "3b3c49ea",
   "metadata": {},
   "outputs": [],
   "source": [
    "hs = (df.iloc[0:8132 , 8 ].to_list())"
   ]
  },
  {
   "cell_type": "code",
   "execution_count": null,
   "id": "e541fce7",
   "metadata": {},
   "outputs": [],
   "source": [
    "import spacy\n",
    "nlp = spacy.load(\"de_core_news_sm\")"
   ]
  },
  {
   "cell_type": "code",
   "execution_count": null,
   "id": "a33ab60c",
   "metadata": {
    "scrolled": true
   },
   "outputs": [],
   "source": [
    "array =[]\n",
    "for t in text[:]:\n",
    "    doc = nlp(t)\n",
    "    #print([token.text for token in doc])\n",
    "    \n",
    "    #normalize dataset\n",
    "    #temp = [token.lemma_.lower() for token in doc if token.is_alpha]\n",
    "    \n",
    "    #without stop words\n",
    "    temp = [token.lemma_.lower() for token in doc if token.is_alpha and not token.is_stop]\n",
    "    #print(temp)\n",
    "\n",
    "    array.append((\" \".join(temp)))\n",
    "\n",
    "#print (array)"
   ]
  },
  {
   "cell_type": "code",
   "execution_count": null,
   "id": "8d75b962",
   "metadata": {},
   "outputs": [],
   "source": [
    "df = pd.DataFrame ({'Text': array , 'Hatespeech': hs })\n",
    "print (df)\n",
    "\n",
    "\n"
   ]
  },
  {
   "cell_type": "code",
   "execution_count": null,
   "id": "5164e898",
   "metadata": {},
   "outputs": [],
   "source": [
    "from sklearn.model_selection import train_test_split\n",
    "\n",
    "X_train, X_test, y_train, y_test = train_test_split(\n",
    "    df.Text, \n",
    "    df.Hatespeech, \n",
    "    test_size=0.2, # 20% samples will go to test dataset\n",
    "    random_state=2022, #-> same order of dataset\n",
    "    stratify=df.Hatespeech\n",
    ")"
   ]
  },
  {
   "cell_type": "code",
   "execution_count": null,
   "id": "d4de6169",
   "metadata": {},
   "outputs": [],
   "source": [
    "print(\"Shape of X_train: \", X_train.shape)\n",
    "print(\"Shape of X_test: \", X_test.shape)"
   ]
  },
  {
   "cell_type": "code",
   "execution_count": null,
   "id": "98141676",
   "metadata": {},
   "outputs": [],
   "source": [
    "y_train.value_counts()"
   ]
  },
  {
   "cell_type": "code",
   "execution_count": null,
   "id": "e64018f5",
   "metadata": {},
   "outputs": [],
   "source": [
    "y_test.value_counts()"
   ]
  },
  {
   "cell_type": "code",
   "execution_count": null,
   "id": "31fdfe41",
   "metadata": {},
   "outputs": [],
   "source": [
    "from sklearn.feature_extraction.text import TfidfVectorizer\n",
    "from sklearn.metrics import accuracy_score\n",
    "from sklearn.metrics import classification_report\n",
    "\n",
    "from sklearn.neighbors import KNeighborsClassifier\n",
    "from sklearn.pipeline import Pipeline\n",
    "from sklearn.svm import SVC\n",
    "from sklearn.ensemble import RandomForestClassifier\n",
    "from sklearn.datasets import make_classification\n",
    "import xgboost as xgb\n",
    "\n",
    "#1. create a pipeline object\n",
    "clf = Pipeline([\n",
    "     ('vectorizer_tfidf',TfidfVectorizer()),    \n",
    "     #('KNN', KNeighborsClassifier())\n",
    "     #('SVM', SVC())   \n",
    "     #('rfc', RandomForestClassifier()) \n",
    "     ('xgb', xgb.XGBClassifier(objective=\"binary:logistic\", random_state=42)) \n",
    "])\n",
    "\n",
    "#2. fit with X_train and y_train\n",
    "clf.fit(X_train, y_train)\n",
    "\n",
    "\n",
    "#3. get the predictions for X_test and store it in y_pred\n",
    "y_pred = clf.predict(X_test)\n",
    "\n",
    "\n",
    "#4. print the classfication report\n",
    "print(classification_report(y_test, y_pred))\n",
    "\n",
    "# find accuracy scores\n",
    "accuracy = accuracy_score(y_test, y_pred)\n",
    "print(\"The accuracy of prediction is: \", accuracy)"
   ]
  },
  {
   "cell_type": "code",
   "execution_count": null,
   "id": "77a9e165",
   "metadata": {},
   "outputs": [],
   "source": [
    "#X_test[:100]\n",
    "c =0\n",
    "for i in X_test[:200]:\n",
    "    print(c,\"->\", i)\n",
    "    c+=1"
   ]
  },
  {
   "cell_type": "code",
   "execution_count": null,
   "id": "79f75628",
   "metadata": {
    "scrolled": true
   },
   "outputs": [],
   "source": [
    "#y_test[0:50]\n",
    "c =0\n",
    "for i in y_test[0:]:\n",
    "    print(c,\"->\", i)\n",
    "    c+=1\n",
    "\n",
    "h=0\n",
    "nh=0\n",
    "for i in y_test:\n",
    "    if i == 1:\n",
    "        #print(i)\n",
    "        h+=1\n",
    "    if i == 0:\n",
    "        #print(i)\n",
    "        nh+=1\n",
    "print(\"count of HS: \", h) \n",
    "print(\"count of NS: \", nh)\n",
    "        "
   ]
  },
  {
   "cell_type": "code",
   "execution_count": null,
   "id": "91f76fb7",
   "metadata": {
    "scrolled": true
   },
   "outputs": [],
   "source": [
    "#y_pred[0:50]\n",
    "c =0\n",
    "for i in y_pred[0:]:\n",
    "    print(c,\"->\", i)\n",
    "    c+=1\n",
    "\n",
    "h=0\n",
    "nh=0\n",
    "for i in y_pred:\n",
    "    if i == 1:\n",
    "        #print(i)\n",
    "        h+=1\n",
    "    if i == 0:\n",
    "        #print(i)\n",
    "        nh+=1\n",
    "print(\"count of HS: \", h) \n",
    "print(\"count of NS: \", nh)    "
   ]
  },
  {
   "cell_type": "code",
   "execution_count": null,
   "id": "4090e98c",
   "metadata": {},
   "outputs": [],
   "source": []
  },
  {
   "cell_type": "code",
   "execution_count": null,
   "id": "96703ee8",
   "metadata": {},
   "outputs": [],
   "source": []
  }
 ],
 "metadata": {
  "kernelspec": {
   "display_name": "Python 3 (ipykernel)",
   "language": "python",
   "name": "python3"
  },
  "language_info": {
   "codemirror_mode": {
    "name": "ipython",
    "version": 3
   },
   "file_extension": ".py",
   "mimetype": "text/x-python",
   "name": "python",
   "nbconvert_exporter": "python",
   "pygments_lexer": "ipython3",
   "version": "3.9.12"
  }
 },
 "nbformat": 4,
 "nbformat_minor": 5
}
